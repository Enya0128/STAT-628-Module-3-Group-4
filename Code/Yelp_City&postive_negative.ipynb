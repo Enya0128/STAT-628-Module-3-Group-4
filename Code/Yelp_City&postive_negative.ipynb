{
  "nbformat": 4,
  "nbformat_minor": 0,
  "metadata": {
    "colab": {
      "name": "Yelp_City&postive/negative.ipynb",
      "provenance": []
    },
    "kernelspec": {
      "name": "python3",
      "display_name": "Python 3"
    }
  },
  "cells": [
    {
      "cell_type": "markdown",
      "metadata": {
        "id": "yGteafgCZ5B6",
        "colab_type": "text"
      },
      "source": [
        "# Yelp Advice (City & postive/negative)\n",
        "\n",
        "Author: Ruixuan Zhao"
      ]
    },
    {
      "cell_type": "markdown",
      "metadata": {
        "id": "yaAeTI0baM4m",
        "colab_type": "text"
      },
      "source": [
        "### For Top Ten City"
      ]
    },
    {
      "cell_type": "code",
      "metadata": {
        "id": "bzbE3FS7aKSi",
        "colab_type": "code",
        "outputId": "e7026dc3-5510-4603-ccc9-40d781796162",
        "colab": {
          "base_uri": "https://localhost:8080/",
          "height": 289
        }
      },
      "source": [
        "import pandas as pd\n",
        "import csv\n",
        "import numpy as np\n",
        "import matplotlib.pyplot as plt\n",
        "import os\n",
        "\n",
        "from google.colab import drive\n",
        "drive.mount('/content/drive')\n",
        "\n",
        "path = \"/content/drive/My Drive\"\n",
        "\n",
        "os.chdir(path)\n",
        "os.listdir(path)"
      ],
      "execution_count": 0,
      "outputs": [
        {
          "output_type": "stream",
          "text": [
            "Go to this URL in a browser: https://accounts.google.com/o/oauth2/auth?client_id=947318989803-6bn6qk8qdgf4n4g3pfee6491hc0brc4i.apps.googleusercontent.com&redirect_uri=urn%3aietf%3awg%3aoauth%3a2.0%3aoob&response_type=code&scope=email%20https%3a%2f%2fwww.googleapis.com%2fauth%2fdocs.test%20https%3a%2f%2fwww.googleapis.com%2fauth%2fdrive%20https%3a%2f%2fwww.googleapis.com%2fauth%2fdrive.photos.readonly%20https%3a%2f%2fwww.googleapis.com%2fauth%2fpeopleapi.readonly\n",
            "\n",
            "Enter your authorization code:\n",
            "··········\n",
            "Mounted at /content/drive\n"
          ],
          "name": "stdout"
        },
        {
          "output_type": "execute_result",
          "data": {
            "text/plain": [
              "['Colab Notebooks',\n",
              " 'STAT628_module2.gslides',\n",
              " 'Yelp_Review',\n",
              " '回归分析方法及其在实验研究与设计中的应用.gslides',\n",
              " 'yelp.jpg',\n",
              " 'Yelp_advice.ipynb',\n",
              " 'Yelp_City&postive negative.ipynb',\n",
              " 'Yelp_Summary.ipynb',\n",
              " 'Yelp_2_group4.gslides']"
            ]
          },
          "metadata": {
            "tags": []
          },
          "execution_count": 1
        }
      ]
    },
    {
      "cell_type": "code",
      "metadata": {
        "id": "SGUgolukoDv4",
        "colab_type": "code",
        "outputId": "b8c63cff-fb4a-4e13-a6ae-496ff4f86e2a",
        "colab": {
          "base_uri": "https://localhost:8080/",
          "height": 53
        }
      },
      "source": [
        "import nltk\n",
        "import io \n",
        "from nltk.corpus import stopwords \n",
        "from nltk.tokenize import word_tokenize \n",
        "nltk.download(\"stopwords\")\n",
        "\n",
        "stopwords = set(stopwords.words('english'))\n",
        "from wordcloud import WordCloud"
      ],
      "execution_count": 0,
      "outputs": [
        {
          "output_type": "stream",
          "text": [
            "[nltk_data] Downloading package stopwords to /root/nltk_data...\n",
            "[nltk_data]   Unzipping corpora/stopwords.zip.\n"
          ],
          "name": "stdout"
        }
      ]
    },
    {
      "cell_type": "code",
      "metadata": {
        "id": "h-Yp8JqYoR7Z",
        "colab_type": "code",
        "outputId": "85392ee8-4d7e-431d-d6f3-03de2f72e7aa",
        "colab": {
          "base_uri": "https://localhost:8080/",
          "height": 71
        }
      },
      "source": [
        "from nltk.tokenize import word_tokenize\n",
        "from nltk.probability import FreqDist\n",
        "nltk.download('punkt')"
      ],
      "execution_count": 0,
      "outputs": [
        {
          "output_type": "stream",
          "text": [
            "[nltk_data] Downloading package punkt to /root/nltk_data...\n",
            "[nltk_data]   Unzipping tokenizers/punkt.zip.\n"
          ],
          "name": "stdout"
        },
        {
          "output_type": "execute_result",
          "data": {
            "text/plain": [
              "True"
            ]
          },
          "metadata": {
            "tags": []
          },
          "execution_count": 3
        }
      ]
    },
    {
      "cell_type": "markdown",
      "metadata": {
        "id": "VwcyjoQce5Hh",
        "colab_type": "text"
      },
      "source": [
        "## Our Data"
      ]
    },
    {
      "cell_type": "code",
      "metadata": {
        "id": "YkZKHPD-awHM",
        "colab_type": "code",
        "outputId": "1c078896-393d-462a-c18c-27565d876566",
        "colab": {
          "base_uri": "https://localhost:8080/",
          "height": 621
        }
      },
      "source": [
        "review_word = pd.read_csv(\"Yelp_Review/mexican_review_p.csv\")\n",
        "review_word.head()"
      ],
      "execution_count": 0,
      "outputs": [
        {
          "output_type": "execute_result",
          "data": {
            "text/html": [
              "<div>\n",
              "<style scoped>\n",
              "    .dataframe tbody tr th:only-of-type {\n",
              "        vertical-align: middle;\n",
              "    }\n",
              "\n",
              "    .dataframe tbody tr th {\n",
              "        vertical-align: top;\n",
              "    }\n",
              "\n",
              "    .dataframe thead th {\n",
              "        text-align: right;\n",
              "    }\n",
              "</style>\n",
              "<table border=\"1\" class=\"dataframe\">\n",
              "  <thead>\n",
              "    <tr style=\"text-align: right;\">\n",
              "      <th></th>\n",
              "      <th>review_id</th>\n",
              "      <th>user_id</th>\n",
              "      <th>business_id</th>\n",
              "      <th>stars</th>\n",
              "      <th>date</th>\n",
              "      <th>text</th>\n",
              "      <th>useful</th>\n",
              "      <th>funny</th>\n",
              "      <th>cool</th>\n",
              "    </tr>\n",
              "  </thead>\n",
              "  <tbody>\n",
              "    <tr>\n",
              "      <th>0</th>\n",
              "      <td>6BnQwlxRn7ZuWdzninM9sQ</td>\n",
              "      <td>JSrP-dUmLlwZiI7Dp3PQ2A</td>\n",
              "      <td>cHdJXLlKNWixBXpDwEGb_A</td>\n",
              "      <td>3.0</td>\n",
              "      <td>2015-04-01 16:30:00</td>\n",
              "      <td>love chinese food love mexican food go wrong c...</td>\n",
              "      <td>1</td>\n",
              "      <td>7</td>\n",
              "      <td>1</td>\n",
              "    </tr>\n",
              "    <tr>\n",
              "      <th>1</th>\n",
              "      <td>S337tATeouQJdoPYyir29w</td>\n",
              "      <td>2mxBNBeFrgDszqGS5tdEHA</td>\n",
              "      <td>d_L-rfS1vT3JMzgCUGtiow</td>\n",
              "      <td>5.0</td>\n",
              "      <td>2016-07-25 03:57:19</td>\n",
              "      <td>pick meat planet chef make mexican style dish ...</td>\n",
              "      <td>0</td>\n",
              "      <td>0</td>\n",
              "      <td>0</td>\n",
              "    </tr>\n",
              "    <tr>\n",
              "      <th>2</th>\n",
              "      <td>j3vP8537KHvoXNHQIr3haA</td>\n",
              "      <td>Z_HE_KKT7N-WddPTzUQC7A</td>\n",
              "      <td>jScBTQtdAt-8RshaiBEHgw</td>\n",
              "      <td>5.0</td>\n",
              "      <td>2018-05-28 20:56:05</td>\n",
              "      <td>party 3 order fish tacos pork belly banh mi co...</td>\n",
              "      <td>1</td>\n",
              "      <td>0</td>\n",
              "      <td>1</td>\n",
              "    </tr>\n",
              "    <tr>\n",
              "      <th>3</th>\n",
              "      <td>CvJy7CdHJqsZNq22fUF7hA</td>\n",
              "      <td>DAssyKNnYBenf0s1uP5iRw</td>\n",
              "      <td>dInxwF8kXVdfLEGTIBRrSw</td>\n",
              "      <td>2.0</td>\n",
              "      <td>2017-04-30 04:13:18</td>\n",
              "      <td>employees busy chat one employee head drive th...</td>\n",
              "      <td>0</td>\n",
              "      <td>1</td>\n",
              "      <td>0</td>\n",
              "    </tr>\n",
              "    <tr>\n",
              "      <th>4</th>\n",
              "      <td>a6N51Ov3NEchmqsquNGtMA</td>\n",
              "      <td>qpYllTutvfoKvT5OEl7gGQ</td>\n",
              "      <td>HkbNItNrnXlNo59M0YyoMg</td>\n",
              "      <td>5.0</td>\n",
              "      <td>2016-09-30 19:51:43</td>\n",
              "      <td>come loco mill since open love come especially...</td>\n",
              "      <td>0</td>\n",
              "      <td>0</td>\n",
              "      <td>0</td>\n",
              "    </tr>\n",
              "  </tbody>\n",
              "</table>\n",
              "</div>"
            ],
            "text/plain": [
              "                review_id                 user_id  ... funny  cool\n",
              "0  6BnQwlxRn7ZuWdzninM9sQ  JSrP-dUmLlwZiI7Dp3PQ2A  ...     7     1\n",
              "1  S337tATeouQJdoPYyir29w  2mxBNBeFrgDszqGS5tdEHA  ...     0     0\n",
              "2  j3vP8537KHvoXNHQIr3haA  Z_HE_KKT7N-WddPTzUQC7A  ...     0     1\n",
              "3  CvJy7CdHJqsZNq22fUF7hA  DAssyKNnYBenf0s1uP5iRw  ...     1     0\n",
              "4  a6N51Ov3NEchmqsquNGtMA  qpYllTutvfoKvT5OEl7gGQ  ...     0     0\n",
              "\n",
              "[5 rows x 9 columns]"
            ]
          },
          "metadata": {
            "tags": []
          },
          "execution_count": 4
        }
      ]
    },
    {
      "cell_type": "code",
      "metadata": {
        "id": "9OFevn3pbPxi",
        "colab_type": "code",
        "outputId": "32f35e61-870b-4c46-db61-68f42d1157ce",
        "colab": {
          "base_uri": "https://localhost:8080/",
          "height": 254
        }
      },
      "source": [
        "info = pd.read_csv(\"Yelp_Review/mexican_info.csv\")\n",
        "info.head()"
      ],
      "execution_count": 0,
      "outputs": [
        {
          "output_type": "execute_result",
          "data": {
            "text/html": [
              "<div>\n",
              "<style scoped>\n",
              "    .dataframe tbody tr th:only-of-type {\n",
              "        vertical-align: middle;\n",
              "    }\n",
              "\n",
              "    .dataframe tbody tr th {\n",
              "        vertical-align: top;\n",
              "    }\n",
              "\n",
              "    .dataframe thead th {\n",
              "        text-align: right;\n",
              "    }\n",
              "</style>\n",
              "<table border=\"1\" class=\"dataframe\">\n",
              "  <thead>\n",
              "    <tr style=\"text-align: right;\">\n",
              "      <th></th>\n",
              "      <th>business_id</th>\n",
              "      <th>name</th>\n",
              "      <th>city</th>\n",
              "      <th>latitude</th>\n",
              "      <th>longitude</th>\n",
              "      <th>star</th>\n",
              "      <th>review_count</th>\n",
              "    </tr>\n",
              "  </thead>\n",
              "  <tbody>\n",
              "    <tr>\n",
              "      <th>0</th>\n",
              "      <td>1Dfx3zM-rW4n-31KeC8sJg</td>\n",
              "      <td>Taco Bell</td>\n",
              "      <td>Phoenix</td>\n",
              "      <td>33.495194</td>\n",
              "      <td>-112.028588</td>\n",
              "      <td>3.0</td>\n",
              "      <td>18</td>\n",
              "    </tr>\n",
              "    <tr>\n",
              "      <th>1</th>\n",
              "      <td>tstimHoMcYbkSC4eBA1wEg</td>\n",
              "      <td>Maria's Mexican Restaurant &amp; Bakery</td>\n",
              "      <td>Las Vegas</td>\n",
              "      <td>36.195615</td>\n",
              "      <td>-115.040529</td>\n",
              "      <td>4.5</td>\n",
              "      <td>184</td>\n",
              "    </tr>\n",
              "    <tr>\n",
              "      <th>2</th>\n",
              "      <td>NPHZkn1e-tSJAbo8Zm9rYw</td>\n",
              "      <td>Burrito Bandidos</td>\n",
              "      <td>Toronto</td>\n",
              "      <td>43.666181</td>\n",
              "      <td>-79.316468</td>\n",
              "      <td>3.5</td>\n",
              "      <td>43</td>\n",
              "    </tr>\n",
              "    <tr>\n",
              "      <th>3</th>\n",
              "      <td>voZnDQs6Hs3YpNcS-9TALg</td>\n",
              "      <td>New Mexican Grill</td>\n",
              "      <td>Chandler</td>\n",
              "      <td>33.261325</td>\n",
              "      <td>-111.790815</td>\n",
              "      <td>4.0</td>\n",
              "      <td>84</td>\n",
              "    </tr>\n",
              "    <tr>\n",
              "      <th>4</th>\n",
              "      <td>jScBTQtdAt-8RshaiBEHgw</td>\n",
              "      <td>Served</td>\n",
              "      <td>Henderson</td>\n",
              "      <td>36.010745</td>\n",
              "      <td>-115.064803</td>\n",
              "      <td>4.5</td>\n",
              "      <td>664</td>\n",
              "    </tr>\n",
              "  </tbody>\n",
              "</table>\n",
              "</div>"
            ],
            "text/plain": [
              "              business_id  ... review_count\n",
              "0  1Dfx3zM-rW4n-31KeC8sJg  ...           18\n",
              "1  tstimHoMcYbkSC4eBA1wEg  ...          184\n",
              "2  NPHZkn1e-tSJAbo8Zm9rYw  ...           43\n",
              "3  voZnDQs6Hs3YpNcS-9TALg  ...           84\n",
              "4  jScBTQtdAt-8RshaiBEHgw  ...          664\n",
              "\n",
              "[5 rows x 7 columns]"
            ]
          },
          "metadata": {
            "tags": []
          },
          "execution_count": 5
        }
      ]
    },
    {
      "cell_type": "markdown",
      "metadata": {
        "id": "z6-IIXWce8fM",
        "colab_type": "text"
      },
      "source": [
        "## Select business id\n",
        "Select business id in a particular city.\n",
        "\n",
        "When the review_counts < min_counts, we don't select this business id."
      ]
    },
    {
      "cell_type": "code",
      "metadata": {
        "id": "6V3Kca5wl6Kx",
        "colab_type": "code",
        "colab": {}
      },
      "source": [
        "def find_bus(city,info,min_count):\n",
        "  #bus=info[info['city']==city]\n",
        "  bus_all=info[info['city']==city]\n",
        "  bus_id=bus_all[bus_all['review_count']>min_count]['business_id']\n",
        "  return (bus_id)"
      ],
      "execution_count": 0,
      "outputs": []
    },
    {
      "cell_type": "markdown",
      "metadata": {
        "id": "YIIzR2oLgUU4",
        "colab_type": "text"
      },
      "source": [
        "# Find reviews in a particular city\n"
      ]
    },
    {
      "cell_type": "code",
      "metadata": {
        "id": "PSlOHpZCbo0f",
        "colab_type": "code",
        "colab": {}
      },
      "source": [
        "def find_city_review(bus_id,review_word):\n",
        "  review=[]\n",
        "  for id in bus_id:\n",
        "    rev = review_word['text'][review_word['business_id']==id]\n",
        "    try:\n",
        "      revAll = \" \".join(i for i in rev)\n",
        "    except:\n",
        "      print(id)\n",
        "    review.append(revAll)\n",
        "  review_city_f =  \" \".join(j for j in review)\n",
        "  return (review_city_f)"
      ],
      "execution_count": 0,
      "outputs": []
    },
    {
      "cell_type": "markdown",
      "metadata": {
        "id": "QKkKGl_lgede",
        "colab_type": "text"
      },
      "source": [
        "# Find words around keywords(this keywords means postive/negative words)\n",
        "\n",
        "around: it is a number which determines how many words we select as nearby words."
      ]
    },
    {
      "cell_type": "code",
      "metadata": {
        "id": "x0EZrHXflc6W",
        "colab_type": "code",
        "colab": {}
      },
      "source": [
        "def find_word_near(city_review,keyword,around):\n",
        "  words = word_tokenize(city_review)\n",
        "  index = []\n",
        "  num = 0\n",
        "  for word in words:\n",
        "    num = num + 1\n",
        "    if (word == keyword):\n",
        "      index.append(num)\n",
        "  res_words = []\n",
        "  for id in index:\n",
        "    res_words = res_words + words[(id-around):(id+around):1]\n",
        "  result =  \" \".join(j for j in res_words)\n",
        "  result_f = word_tokenize(result)\n",
        "  fdist = FreqDist(result_f)\n",
        "  return(fdist)\n"
      ],
      "execution_count": 0,
      "outputs": []
    },
    {
      "cell_type": "markdown",
      "metadata": {
        "id": "6VcLDfvqg9bo",
        "colab_type": "text"
      },
      "source": [
        "## Get the frequency of words around positive/negative words"
      ]
    },
    {
      "cell_type": "code",
      "metadata": {
        "id": "UlEt7lMAGUOj",
        "colab_type": "code",
        "colab": {}
      },
      "source": [
        "def obtain_result(city,info,min_count,review_word,keyword,post,neg,around):\n",
        "  city_bus = find_bus(city,info,min_count)\n",
        "  city_review = find_city_review(city_bus,review_word)\n",
        "  fdistp = find_word_near(city_review,post,around)\n",
        "  fdistn = find_word_near(city_review,neg,around)\n",
        "  postive = fdistp[keyword]/fdistp[post]/around/2\n",
        "  negative = fdistn[keyword]/fdistn[neg]/around/2\n",
        "  ratio = postive/negative\n",
        "  return(postive,negative,ratio)\n"
      ],
      "execution_count": 0,
      "outputs": []
    },
    {
      "cell_type": "code",
      "metadata": {
        "id": "uRraqrtoCPxt",
        "colab_type": "code",
        "colab": {}
      },
      "source": [
        "def obtain_result2(city,info,min_count,review_word,keyword,post,neg,around):\n",
        "  city_bus = find_bus(city,info,min_count)\n",
        "  city_review = find_city_review(city_bus,review_word)\n",
        "  fdistp = find_word_near(city_review,post,around)\n",
        "  fdistn = find_word_near(city_review,neg,around)\n",
        "  postive = fdistp[keyword]/fdistp[post]/around/2\n",
        "  negative = fdistn[keyword]/fdistn[neg]/around/2\n",
        "  ratio = postive/negative\n",
        "  return(postive,negative,ratio)\n"
      ],
      "execution_count": 0,
      "outputs": []
    },
    {
      "cell_type": "markdown",
      "metadata": {
        "id": "dy3vYGPaK2Di",
        "colab_type": "text"
      },
      "source": [
        "## Mesa\n"
      ]
    },
    {
      "cell_type": "code",
      "metadata": {
        "id": "Z1kL4KzuK0pO",
        "colab_type": "code",
        "colab": {}
      },
      "source": [
        "Mesa_bus = find_bus(\"Mesa\",info, 100)\n",
        "Mesa_review = find_city_review(Mesa_bus,review_word)"
      ],
      "execution_count": 0,
      "outputs": []
    },
    {
      "cell_type": "code",
      "metadata": {
        "id": "HHdEq4dAKhp2",
        "colab_type": "code",
        "outputId": "80974870-8092-4056-f4c1-53a873e2828c",
        "colab": {
          "base_uri": "https://localhost:8080/",
          "height": 315
        }
      },
      "source": [
        "Mesa_near = find_word_near(Mesa_review,'good',5)\n",
        "Mesa_near.plot(30,cumulative=False)\n",
        "plt.show()\n"
      ],
      "execution_count": 0,
      "outputs": [
        {
          "output_type": "display_data",
          "data": {
            "image/png": "[encoded data removed]",
            "text/plain": [
              "<Figure size 432x288 with 1 Axes>"
            ]
          },
          "metadata": {
            "tags": []
          }
        }
      ]
    },
    {
      "cell_type": "code",
      "metadata": {
        "id": "4sAm0RgxKJFF",
        "colab_type": "code",
        "colab": {}
      },
      "source": [
        "Mesa_near2 = find_word_near(Mesa_review,'bad',5)"
      ],
      "execution_count": 0,
      "outputs": []
    },
    {
      "cell_type": "code",
      "metadata": {
        "id": "4DZmcVwkJkCY",
        "colab_type": "code",
        "outputId": "d597eb70-a0db-4c89-aff6-1170db42229b",
        "colab": {
          "base_uri": "https://localhost:8080/",
          "height": 35
        }
      },
      "source": [
        "print('place',Mesa_near['place'],Mesa_near2['place'],Mesa_near['good']*10,Mesa_near2['bad']*10)"
      ],
      "execution_count": 0,
      "outputs": [
        {
          "output_type": "stream",
          "text": [
            "place 926 102 67040 8040\n"
          ],
          "name": "stdout"
        }
      ]
    },
    {
      "cell_type": "code",
      "metadata": {
        "id": "oey6dNYpIfNs",
        "colab_type": "code",
        "outputId": "3273d798-8d05-478f-8c1a-449704019da0",
        "colab": {
          "base_uri": "https://localhost:8080/",
          "height": 35
        }
      },
      "source": [
        "obtain_result(\"Mesa\",info,100,review_word,'service','good','bad',5)"
      ],
      "execution_count": 0,
      "outputs": [
        {
          "output_type": "execute_result",
          "data": {
            "text/plain": [
              "(0.013275656324582339, 0.016293532338308457, 0.8147807393102443)"
            ]
          },
          "metadata": {
            "tags": []
          },
          "execution_count": 108
        }
      ]
    },
    {
      "cell_type": "code",
      "metadata": {
        "id": "n1i_J9eBJEqO",
        "colab_type": "code",
        "outputId": "76ddd879-adeb-48ac-babf-1b1bfd2fc79a",
        "colab": {
          "base_uri": "https://localhost:8080/",
          "height": 35
        }
      },
      "source": [
        "obtain_result(\"Mesa\",info,100,review_word,'place','good','bad',5)"
      ],
      "execution_count": 0,
      "outputs": [
        {
          "output_type": "execute_result",
          "data": {
            "text/plain": [
              "(0.013812649164677804, 0.012686567164179105, 1.088761757686368)"
            ]
          },
          "metadata": {
            "tags": []
          },
          "execution_count": 109
        }
      ]
    },
    {
      "cell_type": "code",
      "metadata": {
        "id": "lOoljDvmJL0F",
        "colab_type": "code",
        "outputId": "0615e7c9-bd3a-4dd7-b591-1a4019aca097",
        "colab": {
          "base_uri": "https://localhost:8080/",
          "height": 35
        }
      },
      "source": [
        "obtain_result(\"Mesa\",info,100,review_word,'salsa','good','bad',5)"
      ],
      "execution_count": 0,
      "outputs": [
        {
          "output_type": "execute_result",
          "data": {
            "text/plain": [
              "(0.010501193317422435, 0.004228855721393035, 2.483223360943423)"
            ]
          },
          "metadata": {
            "tags": []
          },
          "execution_count": 110
        }
      ]
    },
    {
      "cell_type": "code",
      "metadata": {
        "id": "H6foQ4juJ6ph",
        "colab_type": "code",
        "outputId": "de1aedfb-73aa-4fc5-8ffb-2c7a1c10bdd0",
        "colab": {
          "base_uri": "https://localhost:8080/",
          "height": 35
        }
      },
      "source": [
        "obtain_result(\"Mesa\",info,100,review_word,'drink','good','bad',5)"
      ],
      "execution_count": 0,
      "outputs": [
        {
          "output_type": "execute_result",
          "data": {
            "text/plain": [
              "(0.0023418854415274463, 0.0029850746268656717, 0.7845316229116945)"
            ]
          },
          "metadata": {
            "tags": []
          },
          "execution_count": 112
        }
      ]
    },
    {
      "cell_type": "code",
      "metadata": {
        "id": "yH7mTnMQrj_v",
        "colab_type": "code",
        "outputId": "6e09677d-6ea3-477c-86a9-8b42d0a6566e",
        "colab": {
          "base_uri": "https://localhost:8080/",
          "height": 325
        }
      },
      "source": [
        "find_word_near(Mesa_review,\"bad\",5).plot(30,cumulative=False)\n",
        "plt.show()"
      ],
      "execution_count": 0,
      "outputs": [
        {
          "output_type": "display_data",
          "data": {
            "image/png": "[encoded data removed]",
            "text/plain": [
              "<Figure size 432x288 with 1 Axes>"
            ]
          },
          "metadata": {
            "tags": []
          }
        }
      ]
    },
    {
      "cell_type": "code",
      "metadata": {
        "id": "t-cnIrvyt8I2",
        "colab_type": "code",
        "outputId": "026dea93-2ca6-48b5-9015-996026a898fd",
        "colab": {
          "base_uri": "https://localhost:8080/",
          "height": 328
        }
      },
      "source": [
        "find_word_near(Mesa_review,\"delicous\",5).plot(30,cumulative=False)\n",
        "plt.show()"
      ],
      "execution_count": 0,
      "outputs": [
        {
          "output_type": "display_data",
          "data": {
            "image/png": "[encoded data removed]",
            "text/plain": [
              "<Figure size 432x288 with 1 Axes>"
            ]
          },
          "metadata": {
            "tags": []
          }
        }
      ]
    },
    {
      "cell_type": "code",
      "metadata": {
        "id": "DTH0Pk5VuD79",
        "colab_type": "code",
        "outputId": "bbb4ff15-5a51-46db-a5ed-294d51aa4206",
        "colab": {
          "base_uri": "https://localhost:8080/",
          "height": 308
        }
      },
      "source": [
        "find_word_near(Mesa_review,\"cold\",5).plot(30,cumulative=False)\n",
        "plt.show()"
      ],
      "execution_count": 0,
      "outputs": [
        {
          "output_type": "display_data",
          "data": {
            "image/png": "[encoded data removed]",
            "text/plain": [
              "<Figure size 432x288 with 1 Axes>"
            ]
          },
          "metadata": {
            "tags": []
          }
        }
      ]
    },
    {
      "cell_type": "code",
      "metadata": {
        "id": "-iecF9aiubXW",
        "colab_type": "code",
        "outputId": "7a7a7283-2387-4c41-ecf4-bb7b415ec628",
        "colab": {
          "base_uri": "https://localhost:8080/",
          "height": 321
        }
      },
      "source": [
        "find_word_near(Mesa_review,\"carne\",5).plot(30,cumulative=False)\n",
        "plt.show()"
      ],
      "execution_count": 0,
      "outputs": [
        {
          "output_type": "display_data",
          "data": {
            "image/png": "[encoded data removed]",
            "text/plain": [
              "<Figure size 432x288 with 1 Axes>"
            ]
          },
          "metadata": {
            "tags": []
          }
        }
      ]
    },
    {
      "cell_type": "markdown",
      "metadata": {
        "id": "kI5fy4A3K96U",
        "colab_type": "text"
      },
      "source": [
        "## Las Vegas\n"
      ]
    },
    {
      "cell_type": "code",
      "metadata": {
        "id": "JtrIEpXLLTBj",
        "colab_type": "code",
        "colab": {}
      },
      "source": [
        "las_bus = find_bus(\"Las Vegas\",info, 100)\n",
        "las_review = find_city_review(las_bus,review_word)"
      ],
      "execution_count": 0,
      "outputs": []
    },
    {
      "cell_type": "code",
      "metadata": {
        "id": "xquX5H5bLAjG",
        "colab_type": "code",
        "outputId": "8dbfa861-3afb-4d88-a0d6-4c4ff4f19c9f",
        "colab": {
          "base_uri": "https://localhost:8080/",
          "height": 322
        }
      },
      "source": [
        "las_near = find_word_near(las_review,'good',5)\n",
        "las_near.plot(30,cumulative=False)\n",
        "plt.show()"
      ],
      "execution_count": 0,
      "outputs": [
        {
          "output_type": "display_data",
          "data": {
            "image/png": "[encoded data removed]",
            "text/plain": [
              "<Figure size 432x288 with 1 Axes>"
            ]
          },
          "metadata": {
            "tags": []
          }
        }
      ]
    },
    {
      "cell_type": "code",
      "metadata": {
        "id": "Qg0cEGlOLgG9",
        "colab_type": "code",
        "outputId": "f51fee30-4d80-4f35-d510-6139978ba8bd",
        "colab": {
          "base_uri": "https://localhost:8080/",
          "height": 325
        }
      },
      "source": [
        "las_near2 = find_word_near(las_review,'bad',5)\n",
        "las_near2.plot(30,cumulative=False)\n",
        "plt.show()"
      ],
      "execution_count": 0,
      "outputs": [
        {
          "output_type": "display_data",
          "data": {
            "image/png": "[encoded data removed]",
            "text/plain": [
              "<Figure size 432x288 with 1 Axes>"
            ]
          },
          "metadata": {
            "tags": []
          }
        }
      ]
    },
    {
      "cell_type": "code",
      "metadata": {
        "id": "ibdOXM77PgD7",
        "colab_type": "code",
        "outputId": "92e3dd98-3c7b-4aa8-c3de-06ef1bb54a6c",
        "colab": {
          "base_uri": "https://localhost:8080/",
          "height": 35
        }
      },
      "source": [
        "print('service',las_near['service'],las_near2['service'],las_near['good']*10,las_near2['bad']*10)"
      ],
      "execution_count": 0,
      "outputs": [
        {
          "output_type": "stream",
          "text": [
            "service 8479 1450 643720 79190\n"
          ],
          "name": "stdout"
        }
      ]
    },
    {
      "cell_type": "code",
      "metadata": {
        "id": "DoNNVVL4NG0F",
        "colab_type": "code",
        "outputId": "3466ffa3-fd8f-4fef-cd11-53504a48a49d",
        "colab": {
          "base_uri": "https://localhost:8080/",
          "height": 35
        }
      },
      "source": [
        "obtain_result(\"Las Vegas\",info,100,review_word,'service','good','bad',5)"
      ],
      "execution_count": 0,
      "outputs": [
        {
          "output_type": "execute_result",
          "data": {
            "text/plain": [
              "(0.013171875970919034, 0.01831039272635434)"
            ]
          },
          "metadata": {
            "tags": []
          },
          "execution_count": 37
        }
      ]
    },
    {
      "cell_type": "code",
      "metadata": {
        "id": "XP5dHyy-NPWF",
        "colab_type": "code",
        "outputId": "9e516a32-2e48-4fb9-c08b-aa363f2320b0",
        "colab": {
          "base_uri": "https://localhost:8080/",
          "height": 35
        }
      },
      "source": [
        "obtain_result(\"Las Vegas\",info,100,review_word,'place','good','bad',5)"
      ],
      "execution_count": 0,
      "outputs": [
        {
          "output_type": "execute_result",
          "data": {
            "text/plain": [
              "(0.01183899832225191, 0.013726480616239425)"
            ]
          },
          "metadata": {
            "tags": []
          },
          "execution_count": 38
        }
      ]
    },
    {
      "cell_type": "code",
      "metadata": {
        "id": "eaAGdyPQNQGf",
        "colab_type": "code",
        "outputId": "60e538bc-3a8e-4b0e-ac01-12a5c95f05f2",
        "colab": {
          "base_uri": "https://localhost:8080/",
          "height": 35
        }
      },
      "source": [
        "obtain_result(\"Las Vegas\",info,100,review_word,'salsa','good','bad',5)"
      ],
      "execution_count": 0,
      "outputs": [
        {
          "output_type": "execute_result",
          "data": {
            "text/plain": [
              "(0.0055940471012241345, 0.0030180578355853012)"
            ]
          },
          "metadata": {
            "tags": []
          },
          "execution_count": 39
        }
      ]
    },
    {
      "cell_type": "code",
      "metadata": {
        "id": "3HFwTwLbNXci",
        "colab_type": "code",
        "outputId": "b0c1b062-a48c-4ea7-de34-9942ddcb8541",
        "colab": {
          "base_uri": "https://localhost:8080/",
          "height": 35
        }
      },
      "source": [
        "obtain_result(\"Las Vegas\",info,100,review_word,'carne','good','bad',5)"
      ],
      "execution_count": 0,
      "outputs": [
        {
          "output_type": "execute_result",
          "data": {
            "text/plain": [
              "(0.0016793015596843347, 0.0010481121353706276)"
            ]
          },
          "metadata": {
            "tags": []
          },
          "execution_count": 40
        }
      ]
    },
    {
      "cell_type": "markdown",
      "metadata": {
        "id": "VuWND9VmUY67",
        "colab_type": "text"
      },
      "source": [
        "## Others"
      ]
    },
    {
      "cell_type": "code",
      "metadata": {
        "id": "6yLyv546K7ov",
        "colab_type": "code",
        "colab": {}
      },
      "source": [
        "bus0 = find_bus(\"Scottsdale\",info, 100)\n",
        "review0 = find_city_review(bus0,review_word)\n",
        "near0 = find_word_near(review0,'good',5)\n",
        "near20 = find_word_near(review0,'bad',5)\n"
      ],
      "execution_count": 0,
      "outputs": []
    },
    {
      "cell_type": "code",
      "metadata": {
        "id": "a4hGQE_OLEid",
        "colab_type": "code",
        "outputId": "b0753022-d827-46a7-beab-daf16abe104f",
        "colab": {
          "base_uri": "https://localhost:8080/",
          "height": 35
        }
      },
      "source": [
        "print('chip',near0['chip'],near20['chip'],near0['good']*10,near20['bad']*10)"
      ],
      "execution_count": 0,
      "outputs": [
        {
          "output_type": "stream",
          "text": [
            "chip 1086 95 187080 22440\n"
          ],
          "name": "stdout"
        }
      ]
    },
    {
      "cell_type": "markdown",
      "metadata": {
        "id": "iVMqCIXICcpC",
        "colab_type": "text"
      },
      "source": [
        "# Phoenix"
      ]
    },
    {
      "cell_type": "code",
      "metadata": {
        "id": "qNXiBxp2UVNr",
        "colab_type": "code",
        "outputId": "852c51c7-34ca-4789-822f-aedad2946a96",
        "colab": {
          "base_uri": "https://localhost:8080/",
          "height": 312
        }
      },
      "source": [
        "bus = find_bus(\"Phoenix\",info, 100)\n",
        "review = find_city_review(bus,review_word)\n",
        "near = find_word_near(review,'good',5)\n",
        "near.plot(30,cumulative=False)\n",
        "plt.show()"
      ],
      "execution_count": 0,
      "outputs": [
        {
          "output_type": "display_data",
          "data": {
            "image/png": "[encoded data removed]",
            "text/plain": [
              "<Figure size 432x288 with 1 Axes>"
            ]
          },
          "metadata": {
            "tags": []
          }
        }
      ]
    },
    {
      "cell_type": "code",
      "metadata": {
        "id": "Z2ZSHLPhUl8N",
        "colab_type": "code",
        "outputId": "e8f09d8f-e660-4b53-8ee0-558c8f3a5abf",
        "colab": {
          "base_uri": "https://localhost:8080/",
          "height": 325
        }
      },
      "source": [
        "near2 = find_word_near(review,'bad',5)\n",
        "near2.plot(30,cumulative=False)\n",
        "plt.show()"
      ],
      "execution_count": 0,
      "outputs": [
        {
          "output_type": "display_data",
          "data": {
            "image/png": "[encoded data removed]",
            "text/plain": [
              "<Figure size 432x288 with 1 Axes>"
            ]
          },
          "metadata": {
            "tags": []
          }
        }
      ]
    },
    {
      "cell_type": "code",
      "metadata": {
        "id": "EAPC9plECrbF",
        "colab_type": "code",
        "outputId": "e4ec6115-b90f-4bff-8574-01ef1c39d344",
        "colab": {
          "base_uri": "https://localhost:8080/",
          "height": 35
        }
      },
      "source": [
        "print('service',near['service'],near2['service'],near['good']*10,near2['bad']*10)"
      ],
      "execution_count": 0,
      "outputs": [
        {
          "output_type": "stream",
          "text": [
            "service 5080 886 431910 51230\n"
          ],
          "name": "stdout"
        }
      ]
    },
    {
      "cell_type": "code",
      "metadata": {
        "id": "1CbzB_pSdGgX",
        "colab_type": "code",
        "outputId": "d872fc60-c040-49dc-e874-8bd5f5d1f368",
        "colab": {
          "base_uri": "https://localhost:8080/",
          "height": 35
        }
      },
      "source": [
        "print('chip',near['chip'],near2['chip'],near['good']*10,near2['bad']*10)"
      ],
      "execution_count": 0,
      "outputs": [
        {
          "output_type": "stream",
          "text": [
            "chip 2075 134 431910 51230\n"
          ],
          "name": "stdout"
        }
      ]
    },
    {
      "cell_type": "code",
      "metadata": {
        "id": "oY9zZ8-Ld4oK",
        "colab_type": "code",
        "outputId": "0dbc4c35-587f-4a71-e8c6-a69bf7caeaed",
        "colab": {
          "base_uri": "https://localhost:8080/",
          "height": 35
        }
      },
      "source": [
        "print('tacos',near['tacos'],near2['tacos'],near['good']*10,near2['bad']*10)"
      ],
      "execution_count": 0,
      "outputs": [
        {
          "output_type": "stream",
          "text": [
            "tacos 3801 234 431910 51230\n"
          ],
          "name": "stdout"
        }
      ]
    },
    {
      "cell_type": "code",
      "metadata": {
        "id": "cMzxQ_eVeKGP",
        "colab_type": "code",
        "outputId": "e21cf83a-bf71-45cf-f916-90edb91f8b85",
        "colab": {
          "base_uri": "https://localhost:8080/",
          "height": 35
        }
      },
      "source": [
        "print('price',near['price'],near2['price'],near['good']*10,near2['bad']*10)"
      ],
      "execution_count": 0,
      "outputs": [
        {
          "output_type": "stream",
          "text": [
            "price 2238 192 431910 51230\n"
          ],
          "name": "stdout"
        }
      ]
    },
    {
      "cell_type": "code",
      "metadata": {
        "id": "YCw42kF0eXEs",
        "colab_type": "code",
        "outputId": "fd1c18f0-bd05-4e85-c207-b44d8c5a82c3",
        "colab": {
          "base_uri": "https://localhost:8080/",
          "height": 35
        }
      },
      "source": [
        "print('place',near['place'],near2['place'],near['good']*10,near2['bad']*10)"
      ],
      "execution_count": 0,
      "outputs": [
        {
          "output_type": "stream",
          "text": [
            "place 5538 712 431910 51230\n"
          ],
          "name": "stdout"
        }
      ]
    },
    {
      "cell_type": "code",
      "metadata": {
        "id": "CREniaecF28g",
        "colab_type": "code",
        "outputId": "201cb965-e069-4c39-80cc-86c7861cfe3a",
        "colab": {
          "base_uri": "https://localhost:8080/",
          "height": 35
        }
      },
      "source": [
        "print('salsa',near['salsa'],near2['salsa'],near['good']*10,near2['bad']*10)"
      ],
      "execution_count": 0,
      "outputs": [
        {
          "output_type": "stream",
          "text": [
            "salsa 2967 173 431910 51230\n"
          ],
          "name": "stdout"
        }
      ]
    },
    {
      "cell_type": "code",
      "metadata": {
        "id": "DcATB79uU9uJ",
        "colab_type": "code",
        "outputId": "f987133b-4cad-44be-bc53-b5aeb3472b06",
        "colab": {
          "base_uri": "https://localhost:8080/",
          "height": 35
        }
      },
      "source": [
        "obtain_result(\"Phoenix\",info,100,review_word,'service','good','bad',5)"
      ],
      "execution_count": 0,
      "outputs": [
        {
          "output_type": "execute_result",
          "data": {
            "text/plain": [
              "(0.01176170961542914, 0.017294553972281863, 0.6800816970636964)"
            ]
          },
          "metadata": {
            "tags": []
          },
          "execution_count": 102
        }
      ]
    },
    {
      "cell_type": "code",
      "metadata": {
        "id": "Ie5vrX8MVDTo",
        "colab_type": "code",
        "outputId": "83739837-bf42-4a8b-89b6-fc3af204e443",
        "colab": {
          "base_uri": "https://localhost:8080/",
          "height": 35
        }
      },
      "source": [
        "obtain_result(\"Phoenix\",info,100,review_word,'place','good','bad',5)"
      ],
      "execution_count": 0,
      "outputs": [
        {
          "output_type": "execute_result",
          "data": {
            "text/plain": [
              "(0.012822115718552476, 0.01389810657817685, 0.9225800396930384)"
            ]
          },
          "metadata": {
            "tags": []
          },
          "execution_count": 103
        }
      ]
    },
    {
      "cell_type": "code",
      "metadata": {
        "id": "sorFPRRaVnMj",
        "colab_type": "code",
        "outputId": "4946d43e-5241-4bba-ea17-d8dd8627d256",
        "colab": {
          "base_uri": "https://localhost:8080/",
          "height": 35
        }
      },
      "source": [
        "obtain_result(\"Phoenix\",info,100,review_word,'chip','good','bad',5)"
      ],
      "execution_count": 0,
      "outputs": [
        {
          "output_type": "execute_result",
          "data": {
            "text/plain": [
              "(0.004804241624412493, 0.0026156548897130587, 1.8367261076018808)"
            ]
          },
          "metadata": {
            "tags": []
          },
          "execution_count": 104
        }
      ]
    },
    {
      "cell_type": "code",
      "metadata": {
        "id": "ZkHHplPAVsqd",
        "colab_type": "code",
        "outputId": "066786f5-133e-4b5c-e6d8-5379a340d033",
        "colab": {
          "base_uri": "https://localhost:8080/",
          "height": 35
        }
      },
      "source": [
        "obtain_result(\"Phoenix\",info,100,review_word,'tacos','good','bad',5)"
      ],
      "execution_count": 0,
      "outputs": [
        {
          "output_type": "execute_result",
          "data": {
            "text/plain": [
              "(0.008800444537056331, 0.004567636150692953, 1.9266956138179312)"
            ]
          },
          "metadata": {
            "tags": []
          },
          "execution_count": 105
        }
      ]
    },
    {
      "cell_type": "code",
      "metadata": {
        "id": "bkVDGOQxVw-o",
        "colab_type": "code",
        "outputId": "a8ddab12-8f76-4c31-affb-6b8d88962504",
        "colab": {
          "base_uri": "https://localhost:8080/",
          "height": 35
        }
      },
      "source": [
        "obtain_result(\"Phoenix\",info,100,review_word,'price','good','bad',5)"
      ],
      "execution_count": 0,
      "outputs": [
        {
          "output_type": "execute_result",
          "data": {
            "text/plain": [
              "(0.005181635062860318, 0.0037478040210813975, 1.382578980574657)"
            ]
          },
          "metadata": {
            "tags": []
          },
          "execution_count": 106
        }
      ]
    },
    {
      "cell_type": "code",
      "metadata": {
        "id": "0tkwBV1rWlPC",
        "colab_type": "code",
        "outputId": "abea89e7-9b81-4b41-81df-d66f266e66e8",
        "colab": {
          "base_uri": "https://localhost:8080/",
          "height": 35
        }
      },
      "source": [
        "obtain_result(\"Phoenix\",info,100,review_word,'salsa','good','bad',5)"
      ],
      "execution_count": 0,
      "outputs": [
        {
          "output_type": "execute_result",
          "data": {
            "text/plain": [
              "(0.006869486698617767, 0.0033769275814952175, 2.034241639134036)"
            ]
          },
          "metadata": {
            "tags": []
          },
          "execution_count": 107
        }
      ]
    },
    {
      "cell_type": "markdown",
      "metadata": {
        "id": "y0K4Szxvhngw",
        "colab_type": "text"
      },
      "source": [
        "## After getting result, we do two proportions z-test(binomial test) in R."
      ]
    }
  ]
}